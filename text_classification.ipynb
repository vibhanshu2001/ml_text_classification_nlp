{
 "cells": [
  {
   "cell_type": "code",
   "execution_count": 1,
   "id": "1bc60218",
   "metadata": {},
   "outputs": [
    {
     "name": "stdout",
     "output_type": "stream",
     "text": [
      "Collecting transformers\n",
      "  Downloading transformers-4.27.4-py3-none-any.whl (6.8 MB)\n",
      "\u001b[2K     \u001b[90m━━━━━━━━━━━━━━━━━━━━━━━━━━━━━━━━━━━━━━━━\u001b[0m \u001b[32m6.8/6.8 MB\u001b[0m \u001b[31m7.7 MB/s\u001b[0m eta \u001b[36m0:00:00\u001b[0m00:01\u001b[0m00:01\u001b[0m\n",
      "\u001b[?25hRequirement already satisfied: filelock in /usr/local/lib/python3.11/site-packages (from transformers) (3.10.7)\n",
      "Collecting huggingface-hub<1.0,>=0.11.0\n",
      "  Downloading huggingface_hub-0.13.3-py3-none-any.whl (199 kB)\n",
      "\u001b[2K     \u001b[90m━━━━━━━━━━━━━━━━━━━━━━━━━━━━━━━━━━━━━━━\u001b[0m \u001b[32m199.8/199.8 kB\u001b[0m \u001b[31m6.2 MB/s\u001b[0m eta \u001b[36m0:00:00\u001b[0ma \u001b[36m0:00:01\u001b[0m\n",
      "\u001b[?25hRequirement already satisfied: numpy>=1.17 in /usr/local/lib/python3.11/site-packages (from transformers) (1.23.5)\n",
      "Requirement already satisfied: packaging>=20.0 in /usr/local/lib/python3.11/site-packages (from transformers) (23.0)\n",
      "Requirement already satisfied: pyyaml>=5.1 in /usr/local/lib/python3.11/site-packages (from transformers) (6.0)\n",
      "Requirement already satisfied: regex!=2019.12.17 in /usr/local/lib/python3.11/site-packages (from transformers) (2023.3.23)\n",
      "Requirement already satisfied: requests in /usr/local/lib/python3.11/site-packages (from transformers) (2.28.2)\n",
      "Collecting tokenizers!=0.11.3,<0.14,>=0.11.1\n",
      "  Downloading tokenizers-0.13.2-cp311-cp311-macosx_10_11_universal2.whl (3.8 MB)\n",
      "\u001b[2K     \u001b[90m━━━━━━━━━━━━━━━━━━━━━━━━━━━━━━━━━━━━━━━━\u001b[0m \u001b[32m3.8/3.8 MB\u001b[0m \u001b[31m4.5 MB/s\u001b[0m eta \u001b[36m0:00:00\u001b[0m00:01\u001b[0m00:01\u001b[0m\n",
      "\u001b[?25hRequirement already satisfied: tqdm>=4.27 in /usr/local/lib/python3.11/site-packages (from transformers) (4.65.0)\n",
      "Requirement already satisfied: typing-extensions>=3.7.4.3 in /usr/local/lib/python3.11/site-packages (from huggingface-hub<1.0,>=0.11.0->transformers) (4.5.0)\n",
      "Requirement already satisfied: charset-normalizer<4,>=2 in /usr/local/lib/python3.11/site-packages (from requests->transformers) (3.1.0)\n",
      "Requirement already satisfied: idna<4,>=2.5 in /usr/local/lib/python3.11/site-packages (from requests->transformers) (3.4)\n",
      "Requirement already satisfied: urllib3<1.27,>=1.21.1 in /usr/local/lib/python3.11/site-packages (from requests->transformers) (1.26.15)\n",
      "Requirement already satisfied: certifi>=2017.4.17 in /usr/local/lib/python3.11/site-packages (from requests->transformers) (2022.12.7)\n",
      "Installing collected packages: tokenizers, huggingface-hub, transformers\n",
      "Successfully installed huggingface-hub-0.13.3 tokenizers-0.13.2 transformers-4.27.4\n",
      "\n",
      "\u001b[1m[\u001b[0m\u001b[34;49mnotice\u001b[0m\u001b[1;39;49m]\u001b[0m\u001b[39;49m A new release of pip available: \u001b[0m\u001b[31;49m22.3.1\u001b[0m\u001b[39;49m -> \u001b[0m\u001b[32;49m23.0.1\u001b[0m\n",
      "\u001b[1m[\u001b[0m\u001b[34;49mnotice\u001b[0m\u001b[1;39;49m]\u001b[0m\u001b[39;49m To update, run: \u001b[0m\u001b[32;49mpython3.11 -m pip install --upgrade pip\u001b[0m\n"
     ]
    }
   ],
   "source": [
    "!pip3 install transformers"
   ]
  },
  {
   "cell_type": "code",
   "execution_count": 2,
   "id": "c4f73cfd",
   "metadata": {},
   "outputs": [
    {
     "name": "stderr",
     "output_type": "stream",
     "text": [
      "2023-04-02 22:56:33.986347: I tensorflow/core/platform/cpu_feature_guard.cc:182] This TensorFlow binary is optimized to use available CPU instructions in performance-critical operations.\n",
      "To enable the following instructions: AVX2 AVX512F AVX512_VNNI FMA, in other operations, rebuild TensorFlow with the appropriate compiler flags.\n"
     ]
    }
   ],
   "source": [
    "import pandas as pd\n",
    "from transformers import pipeline"
   ]
  },
  {
   "cell_type": "code",
   "execution_count": 3,
   "id": "546e1c73",
   "metadata": {},
   "outputs": [
    {
     "name": "stderr",
     "output_type": "stream",
     "text": [
      "No model was supplied, defaulted to roberta-large-mnli and revision 130fb28 (https://huggingface.co/roberta-large-mnli).\n",
      "Using a pipeline without specifying a model name and revision in production is not recommended.\n"
     ]
    },
    {
     "data": {
      "application/vnd.jupyter.widget-view+json": {
       "model_id": "0d9fc72499e14cd288e0489540c0c2d2",
       "version_major": 2,
       "version_minor": 0
      },
      "text/plain": [
       "Downloading (…)lve/main/config.json:   0%|          | 0.00/688 [00:00<?, ?B/s]"
      ]
     },
     "metadata": {},
     "output_type": "display_data"
    },
    {
     "data": {
      "application/vnd.jupyter.widget-view+json": {
       "model_id": "8ceed4f7b3394d6e8ddeda4440b65eec",
       "version_major": 2,
       "version_minor": 0
      },
      "text/plain": [
       "Downloading tf_model.h5:   0%|          | 0.00/1.43G [00:00<?, ?B/s]"
      ]
     },
     "metadata": {},
     "output_type": "display_data"
    },
    {
     "name": "stderr",
     "output_type": "stream",
     "text": [
      "All model checkpoint layers were used when initializing TFRobertaForSequenceClassification.\n",
      "\n",
      "All the layers of TFRobertaForSequenceClassification were initialized from the model checkpoint at roberta-large-mnli.\n",
      "If your task is similar to the task the model of the checkpoint was trained on, you can already use TFRobertaForSequenceClassification for predictions without further training.\n"
     ]
    },
    {
     "data": {
      "application/vnd.jupyter.widget-view+json": {
       "model_id": "7b51716bd1054539857277266c2b02c4",
       "version_major": 2,
       "version_minor": 0
      },
      "text/plain": [
       "Downloading (…)olve/main/vocab.json:   0%|          | 0.00/899k [00:00<?, ?B/s]"
      ]
     },
     "metadata": {},
     "output_type": "display_data"
    },
    {
     "data": {
      "application/vnd.jupyter.widget-view+json": {
       "model_id": "7bd7d61a9c3b4388b3f7c39aacd64faf",
       "version_major": 2,
       "version_minor": 0
      },
      "text/plain": [
       "Downloading (…)olve/main/merges.txt:   0%|          | 0.00/456k [00:00<?, ?B/s]"
      ]
     },
     "metadata": {},
     "output_type": "display_data"
    },
    {
     "data": {
      "application/vnd.jupyter.widget-view+json": {
       "model_id": "8a6d4fdab61647e299714055774b0f20",
       "version_major": 2,
       "version_minor": 0
      },
      "text/plain": [
       "Downloading (…)/main/tokenizer.json:   0%|          | 0.00/1.36M [00:00<?, ?B/s]"
      ]
     },
     "metadata": {},
     "output_type": "display_data"
    }
   ],
   "source": [
    "classifier = pipeline('zero-shot-classification', device=0)"
   ]
  },
  {
   "cell_type": "code",
   "execution_count": 4,
   "id": "2633f343",
   "metadata": {},
   "outputs": [],
   "source": [
    "headlines = pd.read_csv('data.csv')"
   ]
  },
  {
   "cell_type": "code",
   "execution_count": 5,
   "id": "00f0b24c",
   "metadata": {},
   "outputs": [
    {
     "data": {
      "text/plain": [
       "(3650970, 3)"
      ]
     },
     "execution_count": 5,
     "metadata": {},
     "output_type": "execute_result"
    }
   ],
   "source": [
    "headlines.shape"
   ]
  },
  {
   "cell_type": "code",
   "execution_count": 6,
   "id": "c92578da",
   "metadata": {},
   "outputs": [
    {
     "data": {
      "text/html": [
       "<div>\n",
       "<style scoped>\n",
       "    .dataframe tbody tr th:only-of-type {\n",
       "        vertical-align: middle;\n",
       "    }\n",
       "\n",
       "    .dataframe tbody tr th {\n",
       "        vertical-align: top;\n",
       "    }\n",
       "\n",
       "    .dataframe thead th {\n",
       "        text-align: right;\n",
       "    }\n",
       "</style>\n",
       "<table border=\"1\" class=\"dataframe\">\n",
       "  <thead>\n",
       "    <tr style=\"text-align: right;\">\n",
       "      <th></th>\n",
       "      <th>publish_date</th>\n",
       "      <th>headline_category</th>\n",
       "      <th>headline_text</th>\n",
       "    </tr>\n",
       "  </thead>\n",
       "  <tbody>\n",
       "    <tr>\n",
       "      <th>0</th>\n",
       "      <td>20010102</td>\n",
       "      <td>unknown</td>\n",
       "      <td>Status quo will not be disturbed at Ayodhya; s...</td>\n",
       "    </tr>\n",
       "    <tr>\n",
       "      <th>1</th>\n",
       "      <td>20010102</td>\n",
       "      <td>unknown</td>\n",
       "      <td>Fissures in Hurriyat over Pak visit</td>\n",
       "    </tr>\n",
       "    <tr>\n",
       "      <th>2</th>\n",
       "      <td>20010102</td>\n",
       "      <td>unknown</td>\n",
       "      <td>America's unwanted heading for India?</td>\n",
       "    </tr>\n",
       "    <tr>\n",
       "      <th>3</th>\n",
       "      <td>20010102</td>\n",
       "      <td>unknown</td>\n",
       "      <td>For bigwigs; it is destination Goa</td>\n",
       "    </tr>\n",
       "    <tr>\n",
       "      <th>4</th>\n",
       "      <td>20010102</td>\n",
       "      <td>unknown</td>\n",
       "      <td>Extra buses to clear tourist traffic</td>\n",
       "    </tr>\n",
       "  </tbody>\n",
       "</table>\n",
       "</div>"
      ],
      "text/plain": [
       "   publish_date headline_category  \\\n",
       "0      20010102           unknown   \n",
       "1      20010102           unknown   \n",
       "2      20010102           unknown   \n",
       "3      20010102           unknown   \n",
       "4      20010102           unknown   \n",
       "\n",
       "                                       headline_text  \n",
       "0  Status quo will not be disturbed at Ayodhya; s...  \n",
       "1                Fissures in Hurriyat over Pak visit  \n",
       "2              America's unwanted heading for India?  \n",
       "3                 For bigwigs; it is destination Goa  \n",
       "4               Extra buses to clear tourist traffic  "
      ]
     },
     "execution_count": 6,
     "metadata": {},
     "output_type": "execute_result"
    }
   ],
   "source": [
    "headlines.head()"
   ]
  },
  {
   "cell_type": "code",
   "execution_count": 14,
   "id": "bc0701e3",
   "metadata": {},
   "outputs": [],
   "source": [
    "samples = headlines.sample(10)"
   ]
  },
  {
   "cell_type": "code",
   "execution_count": 15,
   "id": "ee400f5d",
   "metadata": {},
   "outputs": [],
   "source": [
    "strings = samples.headline_text.values"
   ]
  },
  {
   "cell_type": "code",
   "execution_count": 16,
   "id": "fb687d6b",
   "metadata": {},
   "outputs": [],
   "source": [
    "sequence = list(strings)"
   ]
  },
  {
   "cell_type": "code",
   "execution_count": 17,
   "id": "ccf79656",
   "metadata": {},
   "outputs": [
    {
     "name": "stdout",
     "output_type": "stream",
     "text": [
      "[\"Mother; sister paid fatal price for man's Rs 10K debt\", \"America's Af-Pak envoy calls it quits\", 'Jayanta Bose felicitated on 60th birthday', 'Cops arrest 3 in connection with body found in Mhasrul', 'ATS; Nanded police nab two gangsters in city', 'A policy of forgive and forget', 'Pak should include Akhtar for semis against India: Akram', 'Carjackers; who cut off cabbies tongue; arrested', 'Blair to be peace envoy to Mideast', 'Mittal paid over $1 mn a day in fees for Arcelor win']\n"
     ]
    }
   ],
   "source": [
    "print(sequence)"
   ]
  },
  {
   "cell_type": "code",
   "execution_count": 18,
   "id": "7d30e413",
   "metadata": {},
   "outputs": [],
   "source": [
    "candidate_labels = ['politics','finance','sports','entertainment', 'agriculture']"
   ]
  },
  {
   "cell_type": "code",
   "execution_count": 19,
   "id": "0c92bcdd",
   "metadata": {},
   "outputs": [],
   "source": [
    "output = classifier(sequence, candidate_labels)"
   ]
  },
  {
   "cell_type": "code",
   "execution_count": 20,
   "id": "4cad5527",
   "metadata": {},
   "outputs": [
    {
     "data": {
      "text/plain": [
       "[{'sequence': \"Mother; sister paid fatal price for man's Rs 10K debt\",\n",
       "  'labels': ['finance', 'politics', 'entertainment', 'sports', 'agriculture'],\n",
       "  'scores': [0.6108172535896301,\n",
       "   0.2519344389438629,\n",
       "   0.06054086610674858,\n",
       "   0.041148360818624496,\n",
       "   0.03555906563997269]},\n",
       " {'sequence': \"America's Af-Pak envoy calls it quits\",\n",
       "  'labels': ['politics', 'entertainment', 'finance', 'agriculture', 'sports'],\n",
       "  'scores': [0.6008703708648682,\n",
       "   0.19815441966056824,\n",
       "   0.07853172719478607,\n",
       "   0.0641622468829155,\n",
       "   0.05828124284744263]},\n",
       " {'sequence': 'Jayanta Bose felicitated on 60th birthday',\n",
       "  'labels': ['politics', 'entertainment', 'agriculture', 'finance', 'sports'],\n",
       "  'scores': [0.3370806574821472,\n",
       "   0.2580093443393707,\n",
       "   0.16539983451366425,\n",
       "   0.14316104352474213,\n",
       "   0.09634914994239807]},\n",
       " {'sequence': 'Cops arrest 3 in connection with body found in Mhasrul',\n",
       "  'labels': ['politics', 'entertainment', 'finance', 'agriculture', 'sports'],\n",
       "  'scores': [0.3710156977176666,\n",
       "   0.18410269916057587,\n",
       "   0.1647387444972992,\n",
       "   0.14427319169044495,\n",
       "   0.13586968183517456]},\n",
       " {'sequence': 'ATS; Nanded police nab two gangsters in city',\n",
       "  'labels': ['politics', 'entertainment', 'finance', 'sports', 'agriculture'],\n",
       "  'scores': [0.32777276635169983,\n",
       "   0.230531707406044,\n",
       "   0.17945261299610138,\n",
       "   0.14184969663619995,\n",
       "   0.12039322406053543]},\n",
       " {'sequence': 'A policy of forgive and forget',\n",
       "  'labels': ['politics', 'entertainment', 'finance', 'agriculture', 'sports'],\n",
       "  'scores': [0.3448498547077179,\n",
       "   0.24700427055358887,\n",
       "   0.16239914298057556,\n",
       "   0.12603329122066498,\n",
       "   0.1197134405374527]},\n",
       " {'sequence': 'Pak should include Akhtar for semis against India: Akram',\n",
       "  'labels': ['politics', 'sports', 'entertainment', 'finance', 'agriculture'],\n",
       "  'scores': [0.40836405754089355,\n",
       "   0.2923398017883301,\n",
       "   0.16582439839839935,\n",
       "   0.08950252085924149,\n",
       "   0.04396912455558777]},\n",
       " {'sequence': 'Carjackers; who cut off cabbies tongue; arrested',\n",
       "  'labels': ['entertainment', 'finance', 'politics', 'sports', 'agriculture'],\n",
       "  'scores': [0.279509574174881,\n",
       "   0.23621463775634766,\n",
       "   0.18380339443683624,\n",
       "   0.18260543048381805,\n",
       "   0.11786700785160065]},\n",
       " {'sequence': 'Blair to be peace envoy to Mideast',\n",
       "  'labels': ['politics', 'entertainment', 'agriculture', 'finance', 'sports'],\n",
       "  'scores': [0.7804956436157227,\n",
       "   0.06308194249868393,\n",
       "   0.05589732900261879,\n",
       "   0.0524790920317173,\n",
       "   0.04804595932364464]},\n",
       " {'sequence': 'Mittal paid over $1 mn a day in fees for Arcelor win',\n",
       "  'labels': ['finance', 'politics', 'entertainment', 'sports', 'agriculture'],\n",
       "  'scores': [0.6593438386917114,\n",
       "   0.18036262691020966,\n",
       "   0.07003162056207657,\n",
       "   0.052940212190151215,\n",
       "   0.03732171654701233]}]"
      ]
     },
     "execution_count": 20,
     "metadata": {},
     "output_type": "execute_result"
    }
   ],
   "source": [
    "output"
   ]
  },
  {
   "cell_type": "code",
   "execution_count": null,
   "id": "d11bdded",
   "metadata": {},
   "outputs": [],
   "source": []
  }
 ],
 "metadata": {
  "kernelspec": {
   "display_name": "Python 3 (ipykernel)",
   "language": "python",
   "name": "python3"
  },
  "language_info": {
   "codemirror_mode": {
    "name": "ipython",
    "version": 3
   },
   "file_extension": ".py",
   "mimetype": "text/x-python",
   "name": "python",
   "nbconvert_exporter": "python",
   "pygments_lexer": "ipython3",
   "version": "3.11.2"
  }
 },
 "nbformat": 4,
 "nbformat_minor": 5
}
